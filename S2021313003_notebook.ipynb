{
  "nbformat": 4,
  "nbformat_minor": 0,
  "metadata": {
    "colab": {
      "name": "S2021313003_notebook.ipynb",
      "provenance": [],
      "collapsed_sections": [],
      "authorship_tag": "ABX9TyNYQal2aa4TGDai9opfQrF4",
      "include_colab_link": true
    },
    "kernelspec": {
      "name": "python3",
      "display_name": "Python 3"
    },
    "language_info": {
      "name": "python"
    }
  },
  "cells": [
    {
      "cell_type": "markdown",
      "metadata": {
        "id": "view-in-github",
        "colab_type": "text"
      },
      "source": [
        "<a href=\"https://colab.research.google.com/github/babarmalik6444/CodeChallenge/blob/main/S2021313003_notebook.ipynb\" target=\"_parent\"><img src=\"https://colab.research.google.com/assets/colab-badge.svg\" alt=\"Open In Colab\"/></a>"
      ]
    },
    {
      "cell_type": "code",
      "metadata": {
        "id": "5f2Gt971V8bu"
      },
      "source": [
        "import pandas as pd\n",
        "import numpy as np\n",
        "import matplotlib.pyplot as plt\n",
        "from sklearn import linear_model\n",
        "from sklearn.metrics import mean_squared_error"
      ],
      "execution_count": 165,
      "outputs": []
    },
    {
      "cell_type": "code",
      "metadata": {
        "id": "x3T6wKpdXU6a"
      },
      "source": [
        "data = pd.read_csv('/content/AB_NYC_2019.csv')"
      ],
      "execution_count": 97,
      "outputs": []
    },
    {
      "cell_type": "code",
      "metadata": {
        "colab": {
          "base_uri": "https://localhost:8080/"
        },
        "id": "3Em9NiQAYEUj",
        "outputId": "70805bf4-5111-4445-a7d5-822462ae9f95"
      },
      "source": [
        "data.columns"
      ],
      "execution_count": 98,
      "outputs": [
        {
          "output_type": "execute_result",
          "data": {
            "text/plain": [
              "Index(['id', 'name', 'host_id', 'host_name', 'neighbourhood_group',\n",
              "       'neighbourhood', 'latitude', 'longitude', 'room_type', 'price',\n",
              "       'minimum_nights', 'number_of_reviews', 'last_review',\n",
              "       'reviews_per_month', 'calculated_host_listings_count',\n",
              "       'availability_365'],\n",
              "      dtype='object')"
            ]
          },
          "metadata": {
            "tags": []
          },
          "execution_count": 98
        }
      ]
    },
    {
      "cell_type": "code",
      "metadata": {
        "colab": {
          "base_uri": "https://localhost:8080/"
        },
        "id": "UqQXfCdrYQVG",
        "outputId": "4a43b175-63c3-4a1d-b268-f820aefe1952"
      },
      "source": [
        "data.shape"
      ],
      "execution_count": 99,
      "outputs": [
        {
          "output_type": "execute_result",
          "data": {
            "text/plain": [
              "(48895, 16)"
            ]
          },
          "metadata": {
            "tags": []
          },
          "execution_count": 99
        }
      ]
    },
    {
      "cell_type": "code",
      "metadata": {
        "colab": {
          "base_uri": "https://localhost:8080/",
          "height": 379
        },
        "id": "4MTHnWFCYVyH",
        "outputId": "4ca719c9-8460-4bd3-e0e8-542975cf3d88"
      },
      "source": [
        "data.corr()"
      ],
      "execution_count": 100,
      "outputs": [
        {
          "output_type": "execute_result",
          "data": {
            "text/html": [
              "<div>\n",
              "<style scoped>\n",
              "    .dataframe tbody tr th:only-of-type {\n",
              "        vertical-align: middle;\n",
              "    }\n",
              "\n",
              "    .dataframe tbody tr th {\n",
              "        vertical-align: top;\n",
              "    }\n",
              "\n",
              "    .dataframe thead th {\n",
              "        text-align: right;\n",
              "    }\n",
              "</style>\n",
              "<table border=\"1\" class=\"dataframe\">\n",
              "  <thead>\n",
              "    <tr style=\"text-align: right;\">\n",
              "      <th></th>\n",
              "      <th>id</th>\n",
              "      <th>host_id</th>\n",
              "      <th>latitude</th>\n",
              "      <th>longitude</th>\n",
              "      <th>price</th>\n",
              "      <th>minimum_nights</th>\n",
              "      <th>number_of_reviews</th>\n",
              "      <th>reviews_per_month</th>\n",
              "      <th>calculated_host_listings_count</th>\n",
              "      <th>availability_365</th>\n",
              "    </tr>\n",
              "  </thead>\n",
              "  <tbody>\n",
              "    <tr>\n",
              "      <th>id</th>\n",
              "      <td>1.000000</td>\n",
              "      <td>0.588290</td>\n",
              "      <td>-0.003125</td>\n",
              "      <td>0.090908</td>\n",
              "      <td>0.010619</td>\n",
              "      <td>-0.013224</td>\n",
              "      <td>-0.319760</td>\n",
              "      <td>0.291828</td>\n",
              "      <td>0.133272</td>\n",
              "      <td>0.085468</td>\n",
              "    </tr>\n",
              "    <tr>\n",
              "      <th>host_id</th>\n",
              "      <td>0.588290</td>\n",
              "      <td>1.000000</td>\n",
              "      <td>0.020224</td>\n",
              "      <td>0.127055</td>\n",
              "      <td>0.015309</td>\n",
              "      <td>-0.017364</td>\n",
              "      <td>-0.140106</td>\n",
              "      <td>0.296417</td>\n",
              "      <td>0.154950</td>\n",
              "      <td>0.203492</td>\n",
              "    </tr>\n",
              "    <tr>\n",
              "      <th>latitude</th>\n",
              "      <td>-0.003125</td>\n",
              "      <td>0.020224</td>\n",
              "      <td>1.000000</td>\n",
              "      <td>0.084788</td>\n",
              "      <td>0.033939</td>\n",
              "      <td>0.024869</td>\n",
              "      <td>-0.015389</td>\n",
              "      <td>-0.010142</td>\n",
              "      <td>0.019517</td>\n",
              "      <td>-0.010983</td>\n",
              "    </tr>\n",
              "    <tr>\n",
              "      <th>longitude</th>\n",
              "      <td>0.090908</td>\n",
              "      <td>0.127055</td>\n",
              "      <td>0.084788</td>\n",
              "      <td>1.000000</td>\n",
              "      <td>-0.150019</td>\n",
              "      <td>-0.062747</td>\n",
              "      <td>0.059094</td>\n",
              "      <td>0.145948</td>\n",
              "      <td>-0.114713</td>\n",
              "      <td>0.082731</td>\n",
              "    </tr>\n",
              "    <tr>\n",
              "      <th>price</th>\n",
              "      <td>0.010619</td>\n",
              "      <td>0.015309</td>\n",
              "      <td>0.033939</td>\n",
              "      <td>-0.150019</td>\n",
              "      <td>1.000000</td>\n",
              "      <td>0.042799</td>\n",
              "      <td>-0.047954</td>\n",
              "      <td>-0.030608</td>\n",
              "      <td>0.057472</td>\n",
              "      <td>0.081829</td>\n",
              "    </tr>\n",
              "    <tr>\n",
              "      <th>minimum_nights</th>\n",
              "      <td>-0.013224</td>\n",
              "      <td>-0.017364</td>\n",
              "      <td>0.024869</td>\n",
              "      <td>-0.062747</td>\n",
              "      <td>0.042799</td>\n",
              "      <td>1.000000</td>\n",
              "      <td>-0.080116</td>\n",
              "      <td>-0.121702</td>\n",
              "      <td>0.127960</td>\n",
              "      <td>0.144303</td>\n",
              "    </tr>\n",
              "    <tr>\n",
              "      <th>number_of_reviews</th>\n",
              "      <td>-0.319760</td>\n",
              "      <td>-0.140106</td>\n",
              "      <td>-0.015389</td>\n",
              "      <td>0.059094</td>\n",
              "      <td>-0.047954</td>\n",
              "      <td>-0.080116</td>\n",
              "      <td>1.000000</td>\n",
              "      <td>0.549868</td>\n",
              "      <td>-0.072376</td>\n",
              "      <td>0.172028</td>\n",
              "    </tr>\n",
              "    <tr>\n",
              "      <th>reviews_per_month</th>\n",
              "      <td>0.291828</td>\n",
              "      <td>0.296417</td>\n",
              "      <td>-0.010142</td>\n",
              "      <td>0.145948</td>\n",
              "      <td>-0.030608</td>\n",
              "      <td>-0.121702</td>\n",
              "      <td>0.549868</td>\n",
              "      <td>1.000000</td>\n",
              "      <td>-0.009421</td>\n",
              "      <td>0.185791</td>\n",
              "    </tr>\n",
              "    <tr>\n",
              "      <th>calculated_host_listings_count</th>\n",
              "      <td>0.133272</td>\n",
              "      <td>0.154950</td>\n",
              "      <td>0.019517</td>\n",
              "      <td>-0.114713</td>\n",
              "      <td>0.057472</td>\n",
              "      <td>0.127960</td>\n",
              "      <td>-0.072376</td>\n",
              "      <td>-0.009421</td>\n",
              "      <td>1.000000</td>\n",
              "      <td>0.225701</td>\n",
              "    </tr>\n",
              "    <tr>\n",
              "      <th>availability_365</th>\n",
              "      <td>0.085468</td>\n",
              "      <td>0.203492</td>\n",
              "      <td>-0.010983</td>\n",
              "      <td>0.082731</td>\n",
              "      <td>0.081829</td>\n",
              "      <td>0.144303</td>\n",
              "      <td>0.172028</td>\n",
              "      <td>0.185791</td>\n",
              "      <td>0.225701</td>\n",
              "      <td>1.000000</td>\n",
              "    </tr>\n",
              "  </tbody>\n",
              "</table>\n",
              "</div>"
            ],
            "text/plain": [
              "                                      id  ...  availability_365\n",
              "id                              1.000000  ...          0.085468\n",
              "host_id                         0.588290  ...          0.203492\n",
              "latitude                       -0.003125  ...         -0.010983\n",
              "longitude                       0.090908  ...          0.082731\n",
              "price                           0.010619  ...          0.081829\n",
              "minimum_nights                 -0.013224  ...          0.144303\n",
              "number_of_reviews              -0.319760  ...          0.172028\n",
              "reviews_per_month               0.291828  ...          0.185791\n",
              "calculated_host_listings_count  0.133272  ...          0.225701\n",
              "availability_365                0.085468  ...          1.000000\n",
              "\n",
              "[10 rows x 10 columns]"
            ]
          },
          "metadata": {
            "tags": []
          },
          "execution_count": 100
        }
      ]
    },
    {
      "cell_type": "code",
      "metadata": {
        "colab": {
          "base_uri": "https://localhost:8080/",
          "height": 411
        },
        "id": "LKncUV0IZax0",
        "outputId": "8df7da5e-ee9d-4bca-f922-319aa17e2f97"
      },
      "source": [
        "data.head()"
      ],
      "execution_count": 101,
      "outputs": [
        {
          "output_type": "execute_result",
          "data": {
            "text/html": [
              "<div>\n",
              "<style scoped>\n",
              "    .dataframe tbody tr th:only-of-type {\n",
              "        vertical-align: middle;\n",
              "    }\n",
              "\n",
              "    .dataframe tbody tr th {\n",
              "        vertical-align: top;\n",
              "    }\n",
              "\n",
              "    .dataframe thead th {\n",
              "        text-align: right;\n",
              "    }\n",
              "</style>\n",
              "<table border=\"1\" class=\"dataframe\">\n",
              "  <thead>\n",
              "    <tr style=\"text-align: right;\">\n",
              "      <th></th>\n",
              "      <th>id</th>\n",
              "      <th>name</th>\n",
              "      <th>host_id</th>\n",
              "      <th>host_name</th>\n",
              "      <th>neighbourhood_group</th>\n",
              "      <th>neighbourhood</th>\n",
              "      <th>latitude</th>\n",
              "      <th>longitude</th>\n",
              "      <th>room_type</th>\n",
              "      <th>price</th>\n",
              "      <th>minimum_nights</th>\n",
              "      <th>number_of_reviews</th>\n",
              "      <th>last_review</th>\n",
              "      <th>reviews_per_month</th>\n",
              "      <th>calculated_host_listings_count</th>\n",
              "      <th>availability_365</th>\n",
              "    </tr>\n",
              "  </thead>\n",
              "  <tbody>\n",
              "    <tr>\n",
              "      <th>0</th>\n",
              "      <td>2539</td>\n",
              "      <td>Clean &amp; quiet apt home by the park</td>\n",
              "      <td>2787</td>\n",
              "      <td>John</td>\n",
              "      <td>Brooklyn</td>\n",
              "      <td>Kensington</td>\n",
              "      <td>40.64749</td>\n",
              "      <td>-73.97237</td>\n",
              "      <td>Private room</td>\n",
              "      <td>149</td>\n",
              "      <td>1</td>\n",
              "      <td>9</td>\n",
              "      <td>2018-10-19</td>\n",
              "      <td>0.21</td>\n",
              "      <td>6</td>\n",
              "      <td>365</td>\n",
              "    </tr>\n",
              "    <tr>\n",
              "      <th>1</th>\n",
              "      <td>2595</td>\n",
              "      <td>Skylit Midtown Castle</td>\n",
              "      <td>2845</td>\n",
              "      <td>Jennifer</td>\n",
              "      <td>Manhattan</td>\n",
              "      <td>Midtown</td>\n",
              "      <td>40.75362</td>\n",
              "      <td>-73.98377</td>\n",
              "      <td>Entire home/apt</td>\n",
              "      <td>225</td>\n",
              "      <td>1</td>\n",
              "      <td>45</td>\n",
              "      <td>2019-05-21</td>\n",
              "      <td>0.38</td>\n",
              "      <td>2</td>\n",
              "      <td>355</td>\n",
              "    </tr>\n",
              "    <tr>\n",
              "      <th>2</th>\n",
              "      <td>3647</td>\n",
              "      <td>THE VILLAGE OF HARLEM....NEW YORK !</td>\n",
              "      <td>4632</td>\n",
              "      <td>Elisabeth</td>\n",
              "      <td>Manhattan</td>\n",
              "      <td>Harlem</td>\n",
              "      <td>40.80902</td>\n",
              "      <td>-73.94190</td>\n",
              "      <td>Private room</td>\n",
              "      <td>150</td>\n",
              "      <td>3</td>\n",
              "      <td>0</td>\n",
              "      <td>NaN</td>\n",
              "      <td>NaN</td>\n",
              "      <td>1</td>\n",
              "      <td>365</td>\n",
              "    </tr>\n",
              "    <tr>\n",
              "      <th>3</th>\n",
              "      <td>3831</td>\n",
              "      <td>Cozy Entire Floor of Brownstone</td>\n",
              "      <td>4869</td>\n",
              "      <td>LisaRoxanne</td>\n",
              "      <td>Brooklyn</td>\n",
              "      <td>Clinton Hill</td>\n",
              "      <td>40.68514</td>\n",
              "      <td>-73.95976</td>\n",
              "      <td>Entire home/apt</td>\n",
              "      <td>89</td>\n",
              "      <td>1</td>\n",
              "      <td>270</td>\n",
              "      <td>2019-07-05</td>\n",
              "      <td>4.64</td>\n",
              "      <td>1</td>\n",
              "      <td>194</td>\n",
              "    </tr>\n",
              "    <tr>\n",
              "      <th>4</th>\n",
              "      <td>5022</td>\n",
              "      <td>Entire Apt: Spacious Studio/Loft by central park</td>\n",
              "      <td>7192</td>\n",
              "      <td>Laura</td>\n",
              "      <td>Manhattan</td>\n",
              "      <td>East Harlem</td>\n",
              "      <td>40.79851</td>\n",
              "      <td>-73.94399</td>\n",
              "      <td>Entire home/apt</td>\n",
              "      <td>80</td>\n",
              "      <td>10</td>\n",
              "      <td>9</td>\n",
              "      <td>2018-11-19</td>\n",
              "      <td>0.10</td>\n",
              "      <td>1</td>\n",
              "      <td>0</td>\n",
              "    </tr>\n",
              "  </tbody>\n",
              "</table>\n",
              "</div>"
            ],
            "text/plain": [
              "     id  ... availability_365\n",
              "0  2539  ...              365\n",
              "1  2595  ...              355\n",
              "2  3647  ...              365\n",
              "3  3831  ...              194\n",
              "4  5022  ...                0\n",
              "\n",
              "[5 rows x 16 columns]"
            ]
          },
          "metadata": {
            "tags": []
          },
          "execution_count": 101
        }
      ]
    },
    {
      "cell_type": "code",
      "metadata": {
        "id": "t0MPGzcj_Is8"
      },
      "source": [
        "#check if price have zero value \n",
        "data = data[data.price != 0].copy()"
      ],
      "execution_count": 102,
      "outputs": []
    },
    {
      "cell_type": "code",
      "metadata": {
        "id": "D9fazF6h4J06"
      },
      "source": [
        "#handle null or Nan value \n",
        "data.fillna(data.mean(), inplace=True)"
      ],
      "execution_count": 109,
      "outputs": []
    },
    {
      "cell_type": "code",
      "metadata": {
        "id": "Qet5mE9fc7Nb"
      },
      "source": [
        "#here we select the important columns according to correlation \n",
        "\n",
        "indx = np.random.rand(len(data)) <0.8\n",
        "trainingSet = data[indx]\n",
        "test = data[~indx]\n",
        "\n",
        "trainingSet = trainingSet[['room_type','price','minimum_nights','number_of_reviews','reviews_per_month','calculated_host_listings_count','availability_365']]\n",
        "\n",
        "test = test[['room_type','price','minimum_nights','number_of_reviews','reviews_per_month','calculated_host_listings_count','availability_365']]"
      ],
      "execution_count": 139,
      "outputs": []
    },
    {
      "cell_type": "code",
      "metadata": {
        "colab": {
          "base_uri": "https://localhost:8080/",
          "height": 204
        },
        "id": "-hm436k6di5_",
        "outputId": "9a45609c-4a17-49b0-cf5a-601994cd0636"
      },
      "source": [
        "trainingSet.head()"
      ],
      "execution_count": 125,
      "outputs": [
        {
          "output_type": "execute_result",
          "data": {
            "text/html": [
              "<div>\n",
              "<style scoped>\n",
              "    .dataframe tbody tr th:only-of-type {\n",
              "        vertical-align: middle;\n",
              "    }\n",
              "\n",
              "    .dataframe tbody tr th {\n",
              "        vertical-align: top;\n",
              "    }\n",
              "\n",
              "    .dataframe thead th {\n",
              "        text-align: right;\n",
              "    }\n",
              "</style>\n",
              "<table border=\"1\" class=\"dataframe\">\n",
              "  <thead>\n",
              "    <tr style=\"text-align: right;\">\n",
              "      <th></th>\n",
              "      <th>room_type</th>\n",
              "      <th>price</th>\n",
              "      <th>minimum_nights</th>\n",
              "      <th>number_of_reviews</th>\n",
              "      <th>reviews_per_month</th>\n",
              "      <th>calculated_host_listings_count</th>\n",
              "      <th>availability_365</th>\n",
              "    </tr>\n",
              "  </thead>\n",
              "  <tbody>\n",
              "    <tr>\n",
              "      <th>0</th>\n",
              "      <td>Private room</td>\n",
              "      <td>149</td>\n",
              "      <td>1</td>\n",
              "      <td>9</td>\n",
              "      <td>0.210000</td>\n",
              "      <td>6</td>\n",
              "      <td>365</td>\n",
              "    </tr>\n",
              "    <tr>\n",
              "      <th>2</th>\n",
              "      <td>Private room</td>\n",
              "      <td>150</td>\n",
              "      <td>3</td>\n",
              "      <td>0</td>\n",
              "      <td>1.373128</td>\n",
              "      <td>1</td>\n",
              "      <td>365</td>\n",
              "    </tr>\n",
              "    <tr>\n",
              "      <th>3</th>\n",
              "      <td>Entire home/apt</td>\n",
              "      <td>89</td>\n",
              "      <td>1</td>\n",
              "      <td>270</td>\n",
              "      <td>4.640000</td>\n",
              "      <td>1</td>\n",
              "      <td>194</td>\n",
              "    </tr>\n",
              "    <tr>\n",
              "      <th>4</th>\n",
              "      <td>Entire home/apt</td>\n",
              "      <td>80</td>\n",
              "      <td>10</td>\n",
              "      <td>9</td>\n",
              "      <td>0.100000</td>\n",
              "      <td>1</td>\n",
              "      <td>0</td>\n",
              "    </tr>\n",
              "    <tr>\n",
              "      <th>5</th>\n",
              "      <td>Entire home/apt</td>\n",
              "      <td>200</td>\n",
              "      <td>3</td>\n",
              "      <td>74</td>\n",
              "      <td>0.590000</td>\n",
              "      <td>1</td>\n",
              "      <td>129</td>\n",
              "    </tr>\n",
              "  </tbody>\n",
              "</table>\n",
              "</div>"
            ],
            "text/plain": [
              "         room_type  price  ...  calculated_host_listings_count  availability_365\n",
              "0     Private room    149  ...                               6               365\n",
              "2     Private room    150  ...                               1               365\n",
              "3  Entire home/apt     89  ...                               1               194\n",
              "4  Entire home/apt     80  ...                               1                 0\n",
              "5  Entire home/apt    200  ...                               1               129\n",
              "\n",
              "[5 rows x 7 columns]"
            ]
          },
          "metadata": {
            "tags": []
          },
          "execution_count": 125
        }
      ]
    },
    {
      "cell_type": "code",
      "metadata": {
        "colab": {
          "base_uri": "https://localhost:8080/",
          "height": 279
        },
        "id": "zAa53ZD97sS2",
        "outputId": "5473bcf5-c293-44e4-a967-8ecb689e1dc4"
      },
      "source": [
        "#check the data relation with price \n",
        "plt.scatter(trainingSet.minimum_nights, trainingSet.price,color='blue')\n",
        "plt.xlabel('Minimum Nights')\n",
        "plt.ylabel('Price')\n",
        "plt.show()"
      ],
      "execution_count": 126,
      "outputs": [
        {
          "output_type": "display_data",
          "data": {
            "image/png": "[encoded data removed]",
            "text/plain": [
              "<Figure size 432x288 with 1 Axes>"
            ]
          },
          "metadata": {
            "tags": [],
            "needs_background": "light"
          }
        }
      ]
    },
    {
      "cell_type": "code",
      "metadata": {
        "colab": {
          "base_uri": "https://localhost:8080/",
          "height": 279
        },
        "id": "-3LxiJzd9Nev",
        "outputId": "964cdd13-712a-4ada-8635-1c40811139c7"
      },
      "source": [
        "plt.scatter(trainingSet.number_of_reviews, trainingSet.price,color='blue')\n",
        "plt.xlabel('Number fo reviews')\n",
        "plt.ylabel('Price')\n",
        "plt.show()"
      ],
      "execution_count": 127,
      "outputs": [
        {
          "output_type": "display_data",
          "data": {
            "image/png": "[encoded data removed]",
            "text/plain": [
              "<Figure size 432x288 with 1 Axes>"
            ]
          },
          "metadata": {
            "tags": [],
            "needs_background": "light"
          }
        }
      ]
    },
    {
      "cell_type": "code",
      "metadata": {
        "colab": {
          "base_uri": "https://localhost:8080/",
          "height": 279
        },
        "id": "_Uhq1bfw9Uc2",
        "outputId": "3b6e1e5e-2952-4127-cb8a-3135cb0d3629"
      },
      "source": [
        "plt.scatter(trainingSet.reviews_per_month, trainingSet.price,color='blue')\n",
        "plt.xlabel('Reviews per month')\n",
        "plt.ylabel('Price')\n",
        "plt.show()"
      ],
      "execution_count": 128,
      "outputs": [
        {
          "output_type": "display_data",
          "data": {
            "image/png": "[encoded data removed]",
            "text/plain": [
              "<Figure size 432x288 with 1 Axes>"
            ]
          },
          "metadata": {
            "tags": [],
            "needs_background": "light"
          }
        }
      ]
    },
    {
      "cell_type": "code",
      "metadata": {
        "colab": {
          "base_uri": "https://localhost:8080/",
          "height": 279
        },
        "id": "JHYfHTJK9aU7",
        "outputId": "5ec2ab5d-f116-45a6-991a-992c83497cce"
      },
      "source": [
        "plt.scatter(trainingSet.calculated_host_listings_count, trainingSet.price,color='blue')\n",
        "plt.xlabel('Listing count')\n",
        "plt.ylabel('Price')\n",
        "plt.show()"
      ],
      "execution_count": 129,
      "outputs": [
        {
          "output_type": "display_data",
          "data": {
            "image/png": "[encoded data removed]",
            "text/plain": [
              "<Figure size 432x288 with 1 Axes>"
            ]
          },
          "metadata": {
            "tags": [],
            "needs_background": "light"
          }
        }
      ]
    },
    {
      "cell_type": "code",
      "metadata": {
        "colab": {
          "base_uri": "https://localhost:8080/",
          "height": 279
        },
        "id": "qszXCDFD9veY",
        "outputId": "0e5fbf45-e11b-491f-fd3f-46c158b9f803"
      },
      "source": [
        "plt.scatter(trainingSet.availability_365, trainingSet.price,color='blue')\n",
        "plt.xlabel('Availability')\n",
        "plt.ylabel('Price')\n",
        "plt.show()"
      ],
      "execution_count": 130,
      "outputs": [
        {
          "output_type": "display_data",
          "data": {
            "image/png": "[encoded data removed]",
            "text/plain": [
              "<Figure size 432x288 with 1 Axes>"
            ]
          },
          "metadata": {
            "tags": [],
            "needs_background": "light"
          }
        }
      ]
    },
    {
      "cell_type": "code",
      "metadata": {
        "id": "4JpnpR43YX1C"
      },
      "source": [
        "#room type is an important fector in data , but that is a categorical variable \n",
        "#we need to transform the data.\n",
        "#I will use get_dummies() for data \n",
        "trainingSet = pd.get_dummies(data=trainingSet, columns=['room_type'])\n",
        "test = pd.get_dummies(data=test, columns=['room_type'])"
      ],
      "execution_count": 140,
      "outputs": []
    },
    {
      "cell_type": "code",
      "metadata": {
        "colab": {
          "base_uri": "https://localhost:8080/",
          "height": 241
        },
        "id": "g-fprZjgZYxs",
        "outputId": "cd8df98f-c650-4a8b-e92e-4bb1dd96248d"
      },
      "source": [
        "trainingSet.head()"
      ],
      "execution_count": 132,
      "outputs": [
        {
          "output_type": "execute_result",
          "data": {
            "text/html": [
              "<div>\n",
              "<style scoped>\n",
              "    .dataframe tbody tr th:only-of-type {\n",
              "        vertical-align: middle;\n",
              "    }\n",
              "\n",
              "    .dataframe tbody tr th {\n",
              "        vertical-align: top;\n",
              "    }\n",
              "\n",
              "    .dataframe thead th {\n",
              "        text-align: right;\n",
              "    }\n",
              "</style>\n",
              "<table border=\"1\" class=\"dataframe\">\n",
              "  <thead>\n",
              "    <tr style=\"text-align: right;\">\n",
              "      <th></th>\n",
              "      <th>price</th>\n",
              "      <th>minimum_nights</th>\n",
              "      <th>number_of_reviews</th>\n",
              "      <th>reviews_per_month</th>\n",
              "      <th>calculated_host_listings_count</th>\n",
              "      <th>availability_365</th>\n",
              "      <th>room_type_Entire home/apt</th>\n",
              "      <th>room_type_Private room</th>\n",
              "      <th>room_type_Shared room</th>\n",
              "    </tr>\n",
              "  </thead>\n",
              "  <tbody>\n",
              "    <tr>\n",
              "      <th>0</th>\n",
              "      <td>149</td>\n",
              "      <td>1</td>\n",
              "      <td>9</td>\n",
              "      <td>0.210000</td>\n",
              "      <td>6</td>\n",
              "      <td>365</td>\n",
              "      <td>0</td>\n",
              "      <td>1</td>\n",
              "      <td>0</td>\n",
              "    </tr>\n",
              "    <tr>\n",
              "      <th>2</th>\n",
              "      <td>150</td>\n",
              "      <td>3</td>\n",
              "      <td>0</td>\n",
              "      <td>1.373128</td>\n",
              "      <td>1</td>\n",
              "      <td>365</td>\n",
              "      <td>0</td>\n",
              "      <td>1</td>\n",
              "      <td>0</td>\n",
              "    </tr>\n",
              "    <tr>\n",
              "      <th>3</th>\n",
              "      <td>89</td>\n",
              "      <td>1</td>\n",
              "      <td>270</td>\n",
              "      <td>4.640000</td>\n",
              "      <td>1</td>\n",
              "      <td>194</td>\n",
              "      <td>1</td>\n",
              "      <td>0</td>\n",
              "      <td>0</td>\n",
              "    </tr>\n",
              "    <tr>\n",
              "      <th>4</th>\n",
              "      <td>80</td>\n",
              "      <td>10</td>\n",
              "      <td>9</td>\n",
              "      <td>0.100000</td>\n",
              "      <td>1</td>\n",
              "      <td>0</td>\n",
              "      <td>1</td>\n",
              "      <td>0</td>\n",
              "      <td>0</td>\n",
              "    </tr>\n",
              "    <tr>\n",
              "      <th>5</th>\n",
              "      <td>200</td>\n",
              "      <td>3</td>\n",
              "      <td>74</td>\n",
              "      <td>0.590000</td>\n",
              "      <td>1</td>\n",
              "      <td>129</td>\n",
              "      <td>1</td>\n",
              "      <td>0</td>\n",
              "      <td>0</td>\n",
              "    </tr>\n",
              "  </tbody>\n",
              "</table>\n",
              "</div>"
            ],
            "text/plain": [
              "   price  minimum_nights  ...  room_type_Private room  room_type_Shared room\n",
              "0    149               1  ...                       1                      0\n",
              "2    150               3  ...                       1                      0\n",
              "3     89               1  ...                       0                      0\n",
              "4     80              10  ...                       0                      0\n",
              "5    200               3  ...                       0                      0\n",
              "\n",
              "[5 rows x 9 columns]"
            ]
          },
          "metadata": {
            "tags": []
          },
          "execution_count": 132
        }
      ]
    },
    {
      "cell_type": "code",
      "metadata": {
        "colab": {
          "base_uri": "https://localhost:8080/"
        },
        "id": "H2yJHQTBrvIy",
        "outputId": "22da2a9b-ebb3-4914-8b74-c911b938916c"
      },
      "source": [
        "trainingSet.columns"
      ],
      "execution_count": 133,
      "outputs": [
        {
          "output_type": "execute_result",
          "data": {
            "text/plain": [
              "Index(['price', 'minimum_nights', 'number_of_reviews', 'reviews_per_month',\n",
              "       'calculated_host_listings_count', 'availability_365',\n",
              "       'room_type_Entire home/apt', 'room_type_Private room',\n",
              "       'room_type_Shared room'],\n",
              "      dtype='object')"
            ]
          },
          "metadata": {
            "tags": []
          },
          "execution_count": 133
        }
      ]
    },
    {
      "cell_type": "code",
      "metadata": {
        "colab": {
          "base_uri": "https://localhost:8080/",
          "height": 365
        },
        "id": "HZJhgAo5g849",
        "outputId": "1dfe5326-527f-4bc2-a437-1a85187990c3"
      },
      "source": [
        "trainingSet.corr()"
      ],
      "execution_count": 134,
      "outputs": [
        {
          "output_type": "execute_result",
          "data": {
            "text/html": [
              "<div>\n",
              "<style scoped>\n",
              "    .dataframe tbody tr th:only-of-type {\n",
              "        vertical-align: middle;\n",
              "    }\n",
              "\n",
              "    .dataframe tbody tr th {\n",
              "        vertical-align: top;\n",
              "    }\n",
              "\n",
              "    .dataframe thead th {\n",
              "        text-align: right;\n",
              "    }\n",
              "</style>\n",
              "<table border=\"1\" class=\"dataframe\">\n",
              "  <thead>\n",
              "    <tr style=\"text-align: right;\">\n",
              "      <th></th>\n",
              "      <th>price</th>\n",
              "      <th>minimum_nights</th>\n",
              "      <th>number_of_reviews</th>\n",
              "      <th>reviews_per_month</th>\n",
              "      <th>calculated_host_listings_count</th>\n",
              "      <th>availability_365</th>\n",
              "      <th>room_type_Entire home/apt</th>\n",
              "      <th>room_type_Private room</th>\n",
              "      <th>room_type_Shared room</th>\n",
              "    </tr>\n",
              "  </thead>\n",
              "  <tbody>\n",
              "    <tr>\n",
              "      <th>price</th>\n",
              "      <td>1.000000</td>\n",
              "      <td>0.050280</td>\n",
              "      <td>-0.049186</td>\n",
              "      <td>-0.025394</td>\n",
              "      <td>0.059970</td>\n",
              "      <td>0.087897</td>\n",
              "      <td>0.262183</td>\n",
              "      <td>-0.245872</td>\n",
              "      <td>-0.056014</td>\n",
              "    </tr>\n",
              "    <tr>\n",
              "      <th>minimum_nights</th>\n",
              "      <td>0.050280</td>\n",
              "      <td>1.000000</td>\n",
              "      <td>-0.085312</td>\n",
              "      <td>-0.096026</td>\n",
              "      <td>0.131493</td>\n",
              "      <td>0.146580</td>\n",
              "      <td>0.076107</td>\n",
              "      <td>-0.075360</td>\n",
              "      <td>-0.003185</td>\n",
              "    </tr>\n",
              "    <tr>\n",
              "      <th>number_of_reviews</th>\n",
              "      <td>-0.049186</td>\n",
              "      <td>-0.085312</td>\n",
              "      <td>1.000000</td>\n",
              "      <td>0.532916</td>\n",
              "      <td>-0.072699</td>\n",
              "      <td>0.174496</td>\n",
              "      <td>-0.011960</td>\n",
              "      <td>0.018806</td>\n",
              "      <td>-0.022328</td>\n",
              "    </tr>\n",
              "    <tr>\n",
              "      <th>reviews_per_month</th>\n",
              "      <td>-0.025394</td>\n",
              "      <td>-0.096026</td>\n",
              "      <td>0.532916</td>\n",
              "      <td>1.000000</td>\n",
              "      <td>-0.006797</td>\n",
              "      <td>0.165689</td>\n",
              "      <td>-0.036445</td>\n",
              "      <td>0.034634</td>\n",
              "      <td>0.006291</td>\n",
              "    </tr>\n",
              "    <tr>\n",
              "      <th>calculated_host_listings_count</th>\n",
              "      <td>0.059970</td>\n",
              "      <td>0.131493</td>\n",
              "      <td>-0.072699</td>\n",
              "      <td>-0.006797</td>\n",
              "      <td>1.000000</td>\n",
              "      <td>0.228370</td>\n",
              "      <td>0.111821</td>\n",
              "      <td>-0.108479</td>\n",
              "      <td>-0.012041</td>\n",
              "    </tr>\n",
              "    <tr>\n",
              "      <th>availability_365</th>\n",
              "      <td>0.087897</td>\n",
              "      <td>0.146580</td>\n",
              "      <td>0.174496</td>\n",
              "      <td>0.165689</td>\n",
              "      <td>0.228370</td>\n",
              "      <td>1.000000</td>\n",
              "      <td>-0.003507</td>\n",
              "      <td>-0.013144</td>\n",
              "      <td>0.054621</td>\n",
              "    </tr>\n",
              "    <tr>\n",
              "      <th>room_type_Entire home/apt</th>\n",
              "      <td>0.262183</td>\n",
              "      <td>0.076107</td>\n",
              "      <td>-0.011960</td>\n",
              "      <td>-0.036445</td>\n",
              "      <td>0.111821</td>\n",
              "      <td>-0.003507</td>\n",
              "      <td>1.000000</td>\n",
              "      <td>-0.953618</td>\n",
              "      <td>-0.161748</td>\n",
              "    </tr>\n",
              "    <tr>\n",
              "      <th>room_type_Private room</th>\n",
              "      <td>-0.245872</td>\n",
              "      <td>-0.075360</td>\n",
              "      <td>0.018806</td>\n",
              "      <td>0.034634</td>\n",
              "      <td>-0.108479</td>\n",
              "      <td>-0.013144</td>\n",
              "      <td>-0.953618</td>\n",
              "      <td>1.000000</td>\n",
              "      <td>-0.142810</td>\n",
              "    </tr>\n",
              "    <tr>\n",
              "      <th>room_type_Shared room</th>\n",
              "      <td>-0.056014</td>\n",
              "      <td>-0.003185</td>\n",
              "      <td>-0.022328</td>\n",
              "      <td>0.006291</td>\n",
              "      <td>-0.012041</td>\n",
              "      <td>0.054621</td>\n",
              "      <td>-0.161748</td>\n",
              "      <td>-0.142810</td>\n",
              "      <td>1.000000</td>\n",
              "    </tr>\n",
              "  </tbody>\n",
              "</table>\n",
              "</div>"
            ],
            "text/plain": [
              "                                   price  ...  room_type_Shared room\n",
              "price                           1.000000  ...              -0.056014\n",
              "minimum_nights                  0.050280  ...              -0.003185\n",
              "number_of_reviews              -0.049186  ...              -0.022328\n",
              "reviews_per_month              -0.025394  ...               0.006291\n",
              "calculated_host_listings_count  0.059970  ...              -0.012041\n",
              "availability_365                0.087897  ...               0.054621\n",
              "room_type_Entire home/apt       0.262183  ...              -0.161748\n",
              "room_type_Private room         -0.245872  ...              -0.142810\n",
              "room_type_Shared room          -0.056014  ...               1.000000\n",
              "\n",
              "[9 rows x 9 columns]"
            ]
          },
          "metadata": {
            "tags": []
          },
          "execution_count": 134
        }
      ]
    },
    {
      "cell_type": "code",
      "metadata": {
        "colab": {
          "base_uri": "https://localhost:8080/",
          "height": 241
        },
        "id": "XV5AyyYXGzR1",
        "outputId": "3f28897d-0df7-4d60-9f88-beb1e790baf6"
      },
      "source": [
        "#check test data \n",
        "test.head()"
      ],
      "execution_count": 187,
      "outputs": [
        {
          "output_type": "execute_result",
          "data": {
            "text/html": [
              "<div>\n",
              "<style scoped>\n",
              "    .dataframe tbody tr th:only-of-type {\n",
              "        vertical-align: middle;\n",
              "    }\n",
              "\n",
              "    .dataframe tbody tr th {\n",
              "        vertical-align: top;\n",
              "    }\n",
              "\n",
              "    .dataframe thead th {\n",
              "        text-align: right;\n",
              "    }\n",
              "</style>\n",
              "<table border=\"1\" class=\"dataframe\">\n",
              "  <thead>\n",
              "    <tr style=\"text-align: right;\">\n",
              "      <th></th>\n",
              "      <th>price</th>\n",
              "      <th>minimum_nights</th>\n",
              "      <th>number_of_reviews</th>\n",
              "      <th>reviews_per_month</th>\n",
              "      <th>calculated_host_listings_count</th>\n",
              "      <th>availability_365</th>\n",
              "      <th>room_type_Entire home/apt</th>\n",
              "      <th>room_type_Private room</th>\n",
              "      <th>room_type_Shared room</th>\n",
              "    </tr>\n",
              "  </thead>\n",
              "  <tbody>\n",
              "    <tr>\n",
              "      <th>5</th>\n",
              "      <td>200</td>\n",
              "      <td>3</td>\n",
              "      <td>74</td>\n",
              "      <td>0.590000</td>\n",
              "      <td>1</td>\n",
              "      <td>129</td>\n",
              "      <td>1</td>\n",
              "      <td>0</td>\n",
              "      <td>0</td>\n",
              "    </tr>\n",
              "    <tr>\n",
              "      <th>11</th>\n",
              "      <td>85</td>\n",
              "      <td>2</td>\n",
              "      <td>188</td>\n",
              "      <td>1.500000</td>\n",
              "      <td>1</td>\n",
              "      <td>39</td>\n",
              "      <td>0</td>\n",
              "      <td>1</td>\n",
              "      <td>0</td>\n",
              "    </tr>\n",
              "    <tr>\n",
              "      <th>12</th>\n",
              "      <td>89</td>\n",
              "      <td>4</td>\n",
              "      <td>167</td>\n",
              "      <td>1.340000</td>\n",
              "      <td>3</td>\n",
              "      <td>314</td>\n",
              "      <td>0</td>\n",
              "      <td>1</td>\n",
              "      <td>0</td>\n",
              "    </tr>\n",
              "    <tr>\n",
              "      <th>17</th>\n",
              "      <td>140</td>\n",
              "      <td>1</td>\n",
              "      <td>260</td>\n",
              "      <td>2.120000</td>\n",
              "      <td>1</td>\n",
              "      <td>12</td>\n",
              "      <td>0</td>\n",
              "      <td>1</td>\n",
              "      <td>0</td>\n",
              "    </tr>\n",
              "    <tr>\n",
              "      <th>26</th>\n",
              "      <td>80</td>\n",
              "      <td>4</td>\n",
              "      <td>0</td>\n",
              "      <td>1.373128</td>\n",
              "      <td>1</td>\n",
              "      <td>0</td>\n",
              "      <td>0</td>\n",
              "      <td>1</td>\n",
              "      <td>0</td>\n",
              "    </tr>\n",
              "  </tbody>\n",
              "</table>\n",
              "</div>"
            ],
            "text/plain": [
              "    price  minimum_nights  ...  room_type_Private room  room_type_Shared room\n",
              "5     200               3  ...                       0                      0\n",
              "11     85               2  ...                       1                      0\n",
              "12     89               4  ...                       1                      0\n",
              "17    140               1  ...                       1                      0\n",
              "26     80               4  ...                       1                      0\n",
              "\n",
              "[5 rows x 9 columns]"
            ]
          },
          "metadata": {
            "tags": []
          },
          "execution_count": 187
        }
      ]
    },
    {
      "cell_type": "code",
      "metadata": {
        "colab": {
          "base_uri": "https://localhost:8080/"
        },
        "id": "-TXF-b4mFfW7",
        "outputId": "01fb8a19-3601-44ad-94d1-58092d040c0e"
      },
      "source": [
        "#try with one attribte \n",
        "#lets train the model on selected columns \n",
        "lreg = linear_model.LinearRegression()\n",
        "\n",
        "#trainng\n",
        "\n",
        "X = np.asanyarray(trainingSet['minimum_nights'])\n",
        "y = np.asanyarray(trainingSet['price'])\n",
        "\n",
        "lreg.fit(X.reshape(-1,1), y)"
      ],
      "execution_count": 189,
      "outputs": [
        {
          "output_type": "execute_result",
          "data": {
            "text/plain": [
              "LinearRegression(copy_X=True, fit_intercept=True, n_jobs=None, normalize=False)"
            ]
          },
          "metadata": {
            "tags": []
          },
          "execution_count": 189
        }
      ]
    },
    {
      "cell_type": "code",
      "metadata": {
        "colab": {
          "base_uri": "https://localhost:8080/"
        },
        "id": "8_xSlfmdGgih",
        "outputId": "1483ab79-2ad1-44b3-aacf-cebf1bf061ae"
      },
      "source": [
        "y_pred = lreg.predict([[4]])\n",
        "print(y_pred)\n",
        "mean_squared_error(y_pred, [200])"
      ],
      "execution_count": 191,
      "outputs": [
        {
          "output_type": "stream",
          "text": [
            "[150.75163123]\n"
          ],
          "name": "stdout"
        },
        {
          "output_type": "execute_result",
          "data": {
            "text/plain": [
              "2425.401826695281"
            ]
          },
          "metadata": {
            "tags": []
          },
          "execution_count": 191
        }
      ]
    },
    {
      "cell_type": "code",
      "metadata": {
        "colab": {
          "base_uri": "https://localhost:8080/",
          "height": 282
        },
        "id": "EaQewkCMGfU5",
        "outputId": "9596bc6e-8165-41e3-b2df-2a6140b6adfe"
      },
      "source": [
        "plt.scatter(trainingSet.minimum_nights, trainingSet.price,color = 'blue')\n",
        "plt.plot(X, y, 'r-')"
      ],
      "execution_count": 154,
      "outputs": [
        {
          "output_type": "execute_result",
          "data": {
            "text/plain": [
              "[<matplotlib.lines.Line2D at 0x7f1b8b73fbd0>]"
            ]
          },
          "metadata": {
            "tags": []
          },
          "execution_count": 154
        },
        {
          "output_type": "display_data",
          "data": {
            "image/png": "[encoded data removed]",
            "text/plain": [
              "<Figure size 432x288 with 1 Axes>"
            ]
          },
          "metadata": {
            "tags": [],
            "needs_background": "light"
          }
        }
      ]
    },
    {
      "cell_type": "code",
      "metadata": {
        "colab": {
          "base_uri": "https://localhost:8080/",
          "height": 241
        },
        "id": "5H4-dj-pQkVq",
        "outputId": "6e663aec-b7ac-4d78-b5e9-0d4e38877802"
      },
      "source": [
        "#check test data \n",
        "test.head()"
      ],
      "execution_count": 203,
      "outputs": [
        {
          "output_type": "execute_result",
          "data": {
            "text/html": [
              "<div>\n",
              "<style scoped>\n",
              "    .dataframe tbody tr th:only-of-type {\n",
              "        vertical-align: middle;\n",
              "    }\n",
              "\n",
              "    .dataframe tbody tr th {\n",
              "        vertical-align: top;\n",
              "    }\n",
              "\n",
              "    .dataframe thead th {\n",
              "        text-align: right;\n",
              "    }\n",
              "</style>\n",
              "<table border=\"1\" class=\"dataframe\">\n",
              "  <thead>\n",
              "    <tr style=\"text-align: right;\">\n",
              "      <th></th>\n",
              "      <th>price</th>\n",
              "      <th>minimum_nights</th>\n",
              "      <th>number_of_reviews</th>\n",
              "      <th>reviews_per_month</th>\n",
              "      <th>calculated_host_listings_count</th>\n",
              "      <th>availability_365</th>\n",
              "      <th>room_type_Entire home/apt</th>\n",
              "      <th>room_type_Private room</th>\n",
              "      <th>room_type_Shared room</th>\n",
              "    </tr>\n",
              "  </thead>\n",
              "  <tbody>\n",
              "    <tr>\n",
              "      <th>5</th>\n",
              "      <td>200</td>\n",
              "      <td>3</td>\n",
              "      <td>74</td>\n",
              "      <td>0.590000</td>\n",
              "      <td>1</td>\n",
              "      <td>129</td>\n",
              "      <td>1</td>\n",
              "      <td>0</td>\n",
              "      <td>0</td>\n",
              "    </tr>\n",
              "    <tr>\n",
              "      <th>11</th>\n",
              "      <td>85</td>\n",
              "      <td>2</td>\n",
              "      <td>188</td>\n",
              "      <td>1.500000</td>\n",
              "      <td>1</td>\n",
              "      <td>39</td>\n",
              "      <td>0</td>\n",
              "      <td>1</td>\n",
              "      <td>0</td>\n",
              "    </tr>\n",
              "    <tr>\n",
              "      <th>12</th>\n",
              "      <td>89</td>\n",
              "      <td>4</td>\n",
              "      <td>167</td>\n",
              "      <td>1.340000</td>\n",
              "      <td>3</td>\n",
              "      <td>314</td>\n",
              "      <td>0</td>\n",
              "      <td>1</td>\n",
              "      <td>0</td>\n",
              "    </tr>\n",
              "    <tr>\n",
              "      <th>17</th>\n",
              "      <td>140</td>\n",
              "      <td>1</td>\n",
              "      <td>260</td>\n",
              "      <td>2.120000</td>\n",
              "      <td>1</td>\n",
              "      <td>12</td>\n",
              "      <td>0</td>\n",
              "      <td>1</td>\n",
              "      <td>0</td>\n",
              "    </tr>\n",
              "    <tr>\n",
              "      <th>26</th>\n",
              "      <td>80</td>\n",
              "      <td>4</td>\n",
              "      <td>0</td>\n",
              "      <td>1.373128</td>\n",
              "      <td>1</td>\n",
              "      <td>0</td>\n",
              "      <td>0</td>\n",
              "      <td>1</td>\n",
              "      <td>0</td>\n",
              "    </tr>\n",
              "  </tbody>\n",
              "</table>\n",
              "</div>"
            ],
            "text/plain": [
              "    price  minimum_nights  ...  room_type_Private room  room_type_Shared room\n",
              "5     200               3  ...                       0                      0\n",
              "11     85               2  ...                       1                      0\n",
              "12     89               4  ...                       1                      0\n",
              "17    140               1  ...                       1                      0\n",
              "26     80               4  ...                       1                      0\n",
              "\n",
              "[5 rows x 9 columns]"
            ]
          },
          "metadata": {
            "tags": []
          },
          "execution_count": 203
        }
      ]
    },
    {
      "cell_type": "code",
      "metadata": {
        "colab": {
          "base_uri": "https://localhost:8080/"
        },
        "id": "EZISNXc1HJ4X",
        "outputId": "ef3efc30-a72b-4c2c-c547-ff233e54fd9a"
      },
      "source": [
        "#lets train the model on selected columns \n",
        "lreg = linear_model.LinearRegression()\n",
        "\n",
        "#trainng\n",
        "\n",
        "X = np.asanyarray(trainingSet[['minimum_nights', 'number_of_reviews' ]])\n",
        "y = np.asanyarray(trainingSet['price'])\n",
        "\n",
        "lreg.fit(X, y)\n",
        "\n",
        "y_pre = lreg.predict([[3,74]])\n",
        "print(y_pre)\n",
        "mean_squared_error(y_pre, [200])*2"
      ],
      "execution_count": 218,
      "outputs": [
        {
          "output_type": "stream",
          "text": [
            "[138.16872814]\n"
          ],
          "name": "stdout"
        },
        {
          "output_type": "execute_result",
          "data": {
            "text/plain": [
              "7646.212359849469"
            ]
          },
          "metadata": {
            "tags": []
          },
          "execution_count": 218
        }
      ]
    },
    {
      "cell_type": "code",
      "metadata": {
        "colab": {
          "base_uri": "https://localhost:8080/"
        },
        "id": "SYl03yvEHhqv",
        "outputId": "7798abce-6638-4137-b5bf-41d2c17bed81"
      },
      "source": [
        "#lets train the model on selected columns \n",
        "lreg = linear_model.LinearRegression()\n",
        "\n",
        "#trainng\n",
        "\n",
        "X = np.asanyarray(trainingSet[['minimum_nights', 'number_of_reviews' , 'reviews_per_month' ]])\n",
        "y = np.asanyarray(trainingSet['price'])\n",
        "\n",
        "lreg.fit(X, y)\n",
        "\n",
        "y_pre = lreg.predict([[3,74,0.590000]])\n",
        "print(y_pre)\n",
        "mean_squared_error(y_pre, [200])*2"
      ],
      "execution_count": 219,
      "outputs": [
        {
          "output_type": "stream",
          "text": [
            "[135.46344809]\n"
          ],
          "name": "stdout"
        },
        {
          "output_type": "execute_result",
          "data": {
            "text/plain": [
              "8329.9330658675"
            ]
          },
          "metadata": {
            "tags": []
          },
          "execution_count": 219
        }
      ]
    },
    {
      "cell_type": "code",
      "metadata": {
        "colab": {
          "base_uri": "https://localhost:8080/"
        },
        "id": "ZP7MDJq9IEW0",
        "outputId": "08423010-84de-45f6-d617-07de5a6d9878"
      },
      "source": [
        "#lets train the model on selected columns \n",
        "lreg = linear_model.LinearRegression()\n",
        "\n",
        "#trainng\n",
        "\n",
        "X = np.asanyarray(trainingSet[['minimum_nights', 'number_of_reviews' , 'reviews_per_month','calculated_host_listings_count' ]])\n",
        "y = np.asanyarray(trainingSet['price'])\n",
        "\n",
        "lreg.fit(X, y)\n",
        "\n",
        "y_pre = lreg.predict([[3,74,0.590000,1]])\n",
        "print(y_pre)\n",
        "mean_squared_error(y_pre, [200])*2"
      ],
      "execution_count": 220,
      "outputs": [
        {
          "output_type": "stream",
          "text": [
            "[135.14240695]\n"
          ],
          "name": "stdout"
        },
        {
          "output_type": "execute_result",
          "data": {
            "text/plain": [
              "8413.014751739205"
            ]
          },
          "metadata": {
            "tags": []
          },
          "execution_count": 220
        }
      ]
    },
    {
      "cell_type": "code",
      "metadata": {
        "colab": {
          "base_uri": "https://localhost:8080/"
        },
        "id": "YollswxWIQqE",
        "outputId": "7be58207-b597-4e06-f11f-d6ae66070f2f"
      },
      "source": [
        "#lets train the model on selected columns \n",
        "lreg = linear_model.LinearRegression()\n",
        "\n",
        "#trainng\n",
        "\n",
        "X = np.asanyarray(trainingSet[['minimum_nights', 'number_of_reviews' , 'reviews_per_month','calculated_host_listings_count',\n",
        "                               'availability_365']])\n",
        "y = np.asanyarray(trainingSet['price'])\n",
        "\n",
        "lreg.fit(X, y)\n",
        "\n",
        "y_pre = lreg.predict([[3,74,0.590000,1,129]])\n",
        "print(y_pre)\n",
        "mean_squared_error(y_pre, [200])*2"
      ],
      "execution_count": 221,
      "outputs": [
        {
          "output_type": "stream",
          "text": [
            "[136.47546704]\n"
          ],
          "name": "stdout"
        },
        {
          "output_type": "execute_result",
          "data": {
            "text/plain": [
              "8070.732574811068"
            ]
          },
          "metadata": {
            "tags": []
          },
          "execution_count": 221
        }
      ]
    },
    {
      "cell_type": "code",
      "metadata": {
        "colab": {
          "base_uri": "https://localhost:8080/"
        },
        "id": "a87U5oq2IZQj",
        "outputId": "4fe4ede6-bc54-48bb-96ee-4c39e37e2163"
      },
      "source": [
        "#lets train the model on selected columns \n",
        "lreg = linear_model.LinearRegression()\n",
        "\n",
        "#trainng\n",
        "\n",
        "X = np.asanyarray(trainingSet[['minimum_nights', 'number_of_reviews' , 'reviews_per_month','calculated_host_listings_count',\n",
        "                               'availability_365', 'room_type_Entire home/apt']])\n",
        "y = np.asanyarray(trainingSet['price'])\n",
        "\n",
        "lreg.fit(X, y)\n",
        "\n",
        "y_pre = lreg.predict([[3,74,0.590000,1,129,1]])\n",
        "print(y_pre)\n",
        "mean_squared_error(y_pre, [200])*2"
      ],
      "execution_count": 222,
      "outputs": [
        {
          "output_type": "stream",
          "text": [
            "[193.13976788]\n"
          ],
          "name": "stdout"
        },
        {
          "output_type": "execute_result",
          "data": {
            "text/plain": [
              "94.1255695575874"
            ]
          },
          "metadata": {
            "tags": []
          },
          "execution_count": 222
        }
      ]
    },
    {
      "cell_type": "code",
      "metadata": {
        "colab": {
          "base_uri": "https://localhost:8080/"
        },
        "id": "67DgXeLmPlOr",
        "outputId": "0c439dca-3b33-4dbc-b999-af7e1adf213e"
      },
      "source": [
        "#lets train the model on selected columns \n",
        "lreg = linear_model.LinearRegression()\n",
        "\n",
        "#trainng\n",
        "\n",
        "X = np.asanyarray(trainingSet[['minimum_nights', 'number_of_reviews' , 'reviews_per_month','calculated_host_listings_count',\n",
        "                               'availability_365', 'room_type_Entire home/apt', 'room_type_Private room']])\n",
        "y = np.asanyarray(trainingSet['price'])\n",
        "\n",
        "lreg.fit(X, y)\n",
        "\n",
        "y_pre = lreg.predict([[3,74,0.590000,1,129,1,0]])\n",
        "print(y_pre)\n",
        "mean_squared_error(y_pre, [200])**2"
      ],
      "execution_count": 213,
      "outputs": [
        {
          "output_type": "stream",
          "text": [
            "[192.91745635]\n"
          ],
          "name": "stdout"
        },
        {
          "output_type": "execute_result",
          "data": {
            "text/plain": [
              "2516.268831686089"
            ]
          },
          "metadata": {
            "tags": []
          },
          "execution_count": 213
        }
      ]
    },
    {
      "cell_type": "code",
      "metadata": {
        "colab": {
          "base_uri": "https://localhost:8080/"
        },
        "id": "G7Xtt2iXqcEK",
        "outputId": "5e90a505-5261-45a4-b920-e05015586676"
      },
      "source": [
        "#lets train the model on selected columns \n",
        "lreg = linear_model.LinearRegression()\n",
        "\n",
        "#trainng\n",
        "\n",
        "X = np.asanyarray(trainingSet[['minimum_nights', 'number_of_reviews', 'reviews_per_month', 'calculated_host_listings_count',\n",
        "                'availability_365', 'room_type_Entire home/apt', 'room_type_Private room', 'room_type_Shared room']])\n",
        "y = np.asanyarray(trainingSet['price'])\n",
        "\n",
        "lreg.fit(X, y)\n",
        "\n",
        "y_pre = lreg.predict([[3,74,0.590000,1,129,1,0,0]])\n",
        "print(y_pre)\n",
        "mean_squared_error(y_pre, [200])*2\n",
        "\n",
        "\n"
      ],
      "execution_count": 223,
      "outputs": [
        {
          "output_type": "stream",
          "text": [
            "[192.91745635]\n"
          ],
          "name": "stdout"
        },
        {
          "output_type": "execute_result",
          "data": {
            "text/plain": [
              "100.32484899939529"
            ]
          },
          "metadata": {
            "tags": []
          },
          "execution_count": 223
        }
      ]
    },
    {
      "cell_type": "code",
      "metadata": {
        "colab": {
          "base_uri": "https://localhost:8080/"
        },
        "id": "CjXP4e4CQoq5",
        "outputId": "d24a1c0f-167e-412f-969a-eeb48cd8d226"
      },
      "source": [
        "#lets remove the minimum_nights and test \n",
        "lreg = linear_model.LinearRegression()\n",
        "\n",
        "#trainng\n",
        "\n",
        "X = np.asanyarray(trainingSet[['number_of_reviews', 'reviews_per_month', 'calculated_host_listings_count',\n",
        "                'availability_365', 'room_type_Entire home/apt', 'room_type_Private room', 'room_type_Shared room']])\n",
        "y = np.asanyarray(trainingSet['price'])\n",
        "\n",
        "lreg.fit(X, y)\n",
        "\n",
        "y_pre = lreg.predict([[74,0.590000,1,129,1,0,0]])\n",
        "print(y_pre)\n",
        "mean_squared_error(y_pre, [200])*2"
      ],
      "execution_count": 224,
      "outputs": [
        {
          "output_type": "stream",
          "text": [
            "[193.58659733]\n"
          ],
          "name": "stdout"
        },
        {
          "output_type": "execute_result",
          "data": {
            "text/plain": [
              "82.26346763402385"
            ]
          },
          "metadata": {
            "tags": []
          },
          "execution_count": 224
        }
      ]
    },
    {
      "cell_type": "code",
      "metadata": {
        "id": "4Dnjh8e5RADE"
      },
      "source": [
        "#lets remove availability_365 and test "
      ],
      "execution_count": null,
      "outputs": []
    },
    {
      "cell_type": "code",
      "metadata": {
        "colab": {
          "base_uri": "https://localhost:8080/"
        },
        "id": "fCq1i7M2RDd1",
        "outputId": "f0a6238d-56a8-455c-84e3-0c23b517dadb"
      },
      "source": [
        "#lets remove calculated_host_listings_count to test \n",
        "lreg = linear_model.LinearRegression()\n",
        "\n",
        "#trainng\n",
        "\n",
        "X = np.asanyarray(trainingSet[['number_of_reviews', 'reviews_per_month',\n",
        "                 'room_type_Entire home/apt', 'room_type_Private room', 'room_type_Shared room']])\n",
        "y = np.asanyarray(trainingSet['price'])\n",
        "\n",
        "lreg.fit(X, y)\n",
        "\n",
        "y_pre = lreg.predict([[74,0.590000,1,0,0]])\n",
        "print(y_pre)\n",
        "mean_squared_error(y_pre, [200])*2"
      ],
      "execution_count": 226,
      "outputs": [
        {
          "output_type": "stream",
          "text": [
            "[193.06880305]\n"
          ],
          "name": "stdout"
        },
        {
          "output_type": "execute_result",
          "data": {
            "text/plain": [
              "96.08298244891286"
            ]
          },
          "metadata": {
            "tags": []
          },
          "execution_count": 226
        }
      ]
    },
    {
      "cell_type": "code",
      "metadata": {
        "colab": {
          "base_uri": "https://localhost:8080/"
        },
        "id": "5Geqrk3LQ12k",
        "outputId": "649001fb-3d9b-4253-dacb-6904daa5d9ed"
      },
      "source": [
        "#lets remove calculated_host_listings_count to test \n",
        "#lets remove the minimum_nights and test \n",
        "lreg = linear_model.LinearRegression()\n",
        "\n",
        "#trainng\n",
        "\n",
        "X = np.asanyarray(trainingSet[['number_of_reviews', 'reviews_per_month',\n",
        "                'availability_365', 'room_type_Entire home/apt', 'room_type_Private room', 'room_type_Shared room']])\n",
        "y = np.asanyarray(trainingSet['price'])\n",
        "\n",
        "lreg.fit(X, y)\n",
        "\n",
        "y_pre = lreg.predict([[74,0.590000,129,1,0,0]])\n",
        "print(y_pre)\n",
        "mean_squared_error(y_pre, [200])*2"
      ],
      "execution_count": 241,
      "outputs": [
        {
          "output_type": "stream",
          "text": [
            "[193.76516669]\n"
          ],
          "name": "stdout"
        },
        {
          "output_type": "execute_result",
          "data": {
            "text/plain": [
              "77.7462929262461"
            ]
          },
          "metadata": {
            "tags": []
          },
          "execution_count": 241
        }
      ]
    },
    {
      "cell_type": "code",
      "metadata": {
        "colab": {
          "base_uri": "https://localhost:8080/"
        },
        "id": "oYzoAYigVb_q",
        "outputId": "44ea9562-4f98-4a41-8f28-f457976a1d1d"
      },
      "source": [
        "y_pre = lreg.predict([[167,\t1.340000\t,314,\t0\t,1,\t0]])\n",
        "print(y_pre)\n",
        "mean_squared_error(y_pre, [89])*2"
      ],
      "execution_count": 243,
      "outputs": [
        {
          "output_type": "stream",
          "text": [
            "[72.24948443]\n"
          ],
          "name": "stdout"
        },
        {
          "output_type": "execute_result",
          "data": {
            "text/plain": [
              "561.1595435794187"
            ]
          },
          "metadata": {
            "tags": []
          },
          "execution_count": 243
        }
      ]
    },
    {
      "cell_type": "code",
      "metadata": {
        "id": "D32gp96SRKGF"
      },
      "source": [
        "#in above tests my MSD is least at 77.74 in above 2nd last model \n",
        "#so I can use that model "
      ],
      "execution_count": 231,
      "outputs": []
    },
    {
      "cell_type": "code",
      "metadata": {
        "colab": {
          "base_uri": "https://localhost:8080/",
          "height": 241
        },
        "id": "xmQEW-VmRzeB",
        "outputId": "0f3eb9d2-f857-4134-ba7b-b56065d5565e"
      },
      "source": [
        "#check test data \n",
        "test.head()"
      ],
      "execution_count": 230,
      "outputs": [
        {
          "output_type": "execute_result",
          "data": {
            "text/html": [
              "<div>\n",
              "<style scoped>\n",
              "    .dataframe tbody tr th:only-of-type {\n",
              "        vertical-align: middle;\n",
              "    }\n",
              "\n",
              "    .dataframe tbody tr th {\n",
              "        vertical-align: top;\n",
              "    }\n",
              "\n",
              "    .dataframe thead th {\n",
              "        text-align: right;\n",
              "    }\n",
              "</style>\n",
              "<table border=\"1\" class=\"dataframe\">\n",
              "  <thead>\n",
              "    <tr style=\"text-align: right;\">\n",
              "      <th></th>\n",
              "      <th>price</th>\n",
              "      <th>minimum_nights</th>\n",
              "      <th>number_of_reviews</th>\n",
              "      <th>reviews_per_month</th>\n",
              "      <th>calculated_host_listings_count</th>\n",
              "      <th>availability_365</th>\n",
              "      <th>room_type_Entire home/apt</th>\n",
              "      <th>room_type_Private room</th>\n",
              "      <th>room_type_Shared room</th>\n",
              "    </tr>\n",
              "  </thead>\n",
              "  <tbody>\n",
              "    <tr>\n",
              "      <th>5</th>\n",
              "      <td>200</td>\n",
              "      <td>3</td>\n",
              "      <td>74</td>\n",
              "      <td>0.590000</td>\n",
              "      <td>1</td>\n",
              "      <td>129</td>\n",
              "      <td>1</td>\n",
              "      <td>0</td>\n",
              "      <td>0</td>\n",
              "    </tr>\n",
              "    <tr>\n",
              "      <th>11</th>\n",
              "      <td>85</td>\n",
              "      <td>2</td>\n",
              "      <td>188</td>\n",
              "      <td>1.500000</td>\n",
              "      <td>1</td>\n",
              "      <td>39</td>\n",
              "      <td>0</td>\n",
              "      <td>1</td>\n",
              "      <td>0</td>\n",
              "    </tr>\n",
              "    <tr>\n",
              "      <th>12</th>\n",
              "      <td>89</td>\n",
              "      <td>4</td>\n",
              "      <td>167</td>\n",
              "      <td>1.340000</td>\n",
              "      <td>3</td>\n",
              "      <td>314</td>\n",
              "      <td>0</td>\n",
              "      <td>1</td>\n",
              "      <td>0</td>\n",
              "    </tr>\n",
              "    <tr>\n",
              "      <th>17</th>\n",
              "      <td>140</td>\n",
              "      <td>1</td>\n",
              "      <td>260</td>\n",
              "      <td>2.120000</td>\n",
              "      <td>1</td>\n",
              "      <td>12</td>\n",
              "      <td>0</td>\n",
              "      <td>1</td>\n",
              "      <td>0</td>\n",
              "    </tr>\n",
              "    <tr>\n",
              "      <th>26</th>\n",
              "      <td>80</td>\n",
              "      <td>4</td>\n",
              "      <td>0</td>\n",
              "      <td>1.373128</td>\n",
              "      <td>1</td>\n",
              "      <td>0</td>\n",
              "      <td>0</td>\n",
              "      <td>1</td>\n",
              "      <td>0</td>\n",
              "    </tr>\n",
              "  </tbody>\n",
              "</table>\n",
              "</div>"
            ],
            "text/plain": [
              "    price  minimum_nights  ...  room_type_Private room  room_type_Shared room\n",
              "5     200               3  ...                       0                      0\n",
              "11     85               2  ...                       1                      0\n",
              "12     89               4  ...                       1                      0\n",
              "17    140               1  ...                       1                      0\n",
              "26     80               4  ...                       1                      0\n",
              "\n",
              "[5 rows x 9 columns]"
            ]
          },
          "metadata": {
            "tags": []
          },
          "execution_count": 230
        }
      ]
    }
  ]
}